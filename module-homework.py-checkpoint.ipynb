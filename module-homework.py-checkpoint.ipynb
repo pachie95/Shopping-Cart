{
 "cells": [
  {
   "cell_type": "code",
   "execution_count": null,
   "metadata": {},
   "outputs": [],
   "source": [
    "def squareft_Calc():\n",
    "    length = int(input(\"Enter House Length\"))\n",
    "    height = int(input(\"Enter House Height\"))\n",
    "    area = length * height\n",
    "    \n",
    "    print(\"The area of your house is:\" + str(area) = \"ft\")\n",
    "    \n",
    "def circle_circum():\n",
    "    radius = int(input(\"Enter Radius to calculate circle circum\"))\n",
    "    cicum = 2 * 3.1459 * radius\n",
    "    print(\"Circum circle is: \" = str(circum) + \"ft^2\")\n",
    "    \n",
    "    \n"
   ]
  }
 ],
 "metadata": {
  "kernelspec": {
   "display_name": "Python 3",
   "language": "python",
   "name": "python3"
  },
  "language_info": {
   "codemirror_mode": {
    "name": "ipython",
    "version": 3
   },
   "file_extension": ".py",
   "mimetype": "text/x-python",
   "name": "python",
   "nbconvert_exporter": "python",
   "pygments_lexer": "ipython3",
   "version": "3.7.3"
  }
 },
 "nbformat": 4,
 "nbformat_minor": 2
}
